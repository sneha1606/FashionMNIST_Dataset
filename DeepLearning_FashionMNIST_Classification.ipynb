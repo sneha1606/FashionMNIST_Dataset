{
 "cells": [
  {
   "cell_type": "markdown",
   "metadata": {
    "id": "JyqQ4OYpDx6Z"
   },
   "source": [
    "**This notebook demonstrates classification of Fashion MNIST Dataset using Tensorflow and Keras**"
   ]
  },
  {
   "cell_type": "markdown",
   "metadata": {
    "id": "EtKE38snEaEJ"
   },
   "source": [
    "First import the libraries tensorflow and matplot library.\n",
    "Also import the Fashion MNIST dataset from the tensorflow datasets."
   ]
  },
  {
   "cell_type": "code",
   "execution_count": 1,
   "metadata": {
    "id": "yoSMO11NDnQc"
   },
   "outputs": [],
   "source": [
    "import tensorflow as tf  # Imports tensorflow library\n",
    "import matplotlib.pyplot as plt  # Imports pyplot from matplotlib library\n",
    "from tensorflow.keras.datasets import fashion_mnist # Imports fashion mnist dataset from tensor flow datasets library"
   ]
  },
  {
   "cell_type": "markdown",
   "metadata": {
    "id": "z4h2CjcBGIK9"
   },
   "source": [
    "Lets load the Fashion MNIST data from keras library"
   ]
  },
  {
   "cell_type": "code",
   "execution_count": 2,
   "metadata": {
    "colab": {
     "base_uri": "https://localhost:8080/"
    },
    "id": "M0HXTVvtGDIG",
    "outputId": "4b447928-0dcd-4476-988d-c63e2b7c7aff"
   },
   "outputs": [],
   "source": [
    "(x_train, y_train),(x_test,y_test) = fashion_mnist.load_data()"
   ]
  },
  {
   "cell_type": "markdown",
   "metadata": {
    "id": "JNhuSnW0HW9W"
   },
   "source": [
    "Pre processing of DATA\n",
    "\n",
    "FIRST visualise the data from the dataset using matplot lib"
   ]
  },
  {
   "cell_type": "code",
   "execution_count": 3,
   "metadata": {
    "colab": {
     "base_uri": "https://localhost:8080/"
    },
    "id": "hdUitymxHIgg",
    "outputId": "7bd2077f-440c-4e47-8d7b-2bfe42791963"
   },
   "outputs": [
    {
     "data": {
      "text/plain": [
       "((60000, 28, 28), (10000, 28, 28))"
      ]
     },
     "execution_count": 3,
     "metadata": {},
     "output_type": "execute_result"
    }
   ],
   "source": [
    "x_train.shape, x_test.shape"
   ]
  },
  {
   "cell_type": "code",
   "execution_count": 4,
   "metadata": {
    "colab": {
     "base_uri": "https://localhost:8080/",
     "height": 265
    },
    "id": "Zh2ngOF-H8ZI",
    "outputId": "e09e7b0f-0d04-41fc-8af3-f211bc58eb9c"
   },
   "outputs": [
    {
     "data": {
      "image/png": "[encoded data removed]",
      "text/plain": [
       "<Figure size 432x288 with 1 Axes>"
      ]
     },
     "metadata": {
      "needs_background": "light"
     },
     "output_type": "display_data"
    }
   ],
   "source": [
    "plt.imshow(x_train[12], cmap=\"gray\")\n",
    "plt.show()"
   ]
  },
  {
   "cell_type": "markdown",
   "metadata": {
    "id": "fYNfVrGXI6Td"
   },
   "source": [
    "We need to normalise the data by scaling the pixels value in a range from 0 to 1"
   ]
  },
  {
   "cell_type": "code",
   "execution_count": 5,
   "metadata": {
    "id": "O4zsFcwbJDES"
   },
   "outputs": [],
   "source": [
    "x_train = tf.keras.utils.normalize(x_train, axis=1) #normalise the train dataset\n",
    "x_test = tf.keras.utils.normalize(x_test, axis=1) #normalise the test dataset"
   ]
  },
  {
   "cell_type": "markdown",
   "metadata": {
    "id": "ldtUOV1AJnab"
   },
   "source": [
    "**Lets built the model !**\n",
    "\n",
    "Steps:\n",
    "\n",
    "1. create a model and add different layers\n",
    "2. Flatten the data by converting 2D images  (28*28) to 1*784\n",
    "3. Create input and hidden layer with 128 neurons and use activation function 'relu'\n",
    "4. Create output layer with 10 neurons  (since our classes are 10) and use 'softmax' activation function to transform the score."
   ]
  },
  {
   "cell_type": "code",
   "execution_count": 6,
   "metadata": {
    "id": "khPbTeCpJqaw"
   },
   "outputs": [],
   "source": [
    "model= tf.keras.models.Sequential()  #Built the model object\n",
    "model.add(tf.keras.layers.Flatten()) #Add the flatten layer\n",
    "\n",
    "# Build the input and output layers\n",
    "# Keep changing the batchsize ranging from 32,64,128 \n",
    "model.add(tf.keras.layers.Dense(32,activation=tf.nn.relu)) \n",
    "model.add(tf.keras.layers.Dense(32,activation=tf.nn.relu)) \n",
    "\n",
    "# Built the output layer\n",
    "model.add(tf.keras.layers.Dense(10, activation=tf.nn.softmax)) "
   ]
  },
  {
   "cell_type": "markdown",
   "metadata": {
    "id": "gUmO7BvLOkfM"
   },
   "source": [
    "Compile the model\n",
    "\n",
    "1. Add optimiser 'adam'\n",
    "2. Use loa=ss function that will tell us the performance of our model\n",
    "3. the metrics which give indictive tests of the quality of the model (accuracy)"
   ]
  },
  {
   "cell_type": "code",
   "execution_count": 7,
   "metadata": {
    "id": "cnh-wbngPY78"
   },
   "outputs": [],
   "source": [
    "model.compile(optimizer='adam', loss='sparse_categorical_crossentropy',metrics=['accuracy'])  #compile the model"
   ]
  },
  {
   "cell_type": "markdown",
   "metadata": {
    "id": "vIRF9bkmQo2r"
   },
   "source": [
    "Train the model"
   ]
  },
  {
   "cell_type": "code",
   "execution_count": 8,
   "metadata": {
    "colab": {
     "base_uri": "https://localhost:8080/"
    },
    "id": "FYLghAquOkGo",
    "outputId": "434048fa-2e38-4582-fac3-42cb837b2be0"
   },
   "outputs": [
    {
     "name": "stdout",
     "output_type": "stream",
     "text": [
      "Epoch 1/5\n",
      "1875/1875 [==============================] - 1s 612us/step - loss: 0.8256 - accuracy: 0.7097\n",
      "Epoch 2/5\n",
      "1875/1875 [==============================] - 1s 602us/step - loss: 0.4008 - accuracy: 0.8544\n",
      "Epoch 3/5\n",
      "1875/1875 [==============================] - 1s 596us/step - loss: 0.3653 - accuracy: 0.8661\n",
      "Epoch 4/5\n",
      "1875/1875 [==============================] - 1s 604us/step - loss: 0.3406 - accuracy: 0.8735\n",
      "Epoch 5/5\n",
      "1875/1875 [==============================] - 1s 597us/step - loss: 0.3183 - accuracy: 0.8819\n"
     ]
    }
   ],
   "source": [
    "history=model.fit(x=x_train,y=y_train, epochs=5)"
   ]
  },
  {
   "cell_type": "markdown",
   "metadata": {
    "id": "CUKF8IYyRX0J"
   },
   "source": [
    "evaluate the model"
   ]
  },
  {
   "cell_type": "code",
   "execution_count": 9,
   "metadata": {
    "colab": {
     "base_uri": "https://localhost:8080/"
    },
    "id": "0t8ChlOiRe9F",
    "outputId": "6f1b864e-51ab-40ce-a559-864e3964c8bc"
   },
   "outputs": [
    {
     "name": "stdout",
     "output_type": "stream",
     "text": [
      "313/313 [==============================] - 0s 453us/step - loss: 0.3827 - accuracy: 0.8625\n",
      "Test_accuracy:  0.862500011920929\n"
     ]
    }
   ],
   "source": [
    "test_loss, test_acc= model.evaluate(x=x_test,y=y_test)\n",
    "print('Test_accuracy: ', test_acc)\n",
    "# Test Accuracy 128 - 87.68\n",
    "# Test Accuracy 64 - 86.73\n",
    "# Test Accuracy 32 - 86.11"
   ]
  },
  {
   "cell_type": "code",
   "execution_count": 10,
   "metadata": {
    "colab": {
     "base_uri": "https://localhost:8080/",
     "height": 499
    },
    "id": "04E3P7g8SVlF",
    "outputId": "16b40017-cd97-47fc-9268-d189721e382a"
   },
   "outputs": [
    {
     "data": {
      "image/png": "[encoded data removed]",
      "text/plain": [
       "<Figure size 576x576 with 2 Axes>"
      ]
     },
     "metadata": {
      "needs_background": "light"
     },
     "output_type": "display_data"
    }
   ],
   "source": [
    "acc=history.history['accuracy']\n",
    "loss= history.history['loss']\n",
    "epochs_range= range(5)\n",
    "\n",
    "plt.figure(figsize=(8,8))\n",
    "plt.subplot(1,2,1)\n",
    "plt.plot(epochs_range, acc, label='Training Accuracy')\n",
    "# plt.legend(loc='Lower right')\n",
    "plt.title('Training Accuracy')\n",
    "\n",
    " \n",
    "plt.subplot(1,2,2)\n",
    "plt.plot(epochs_range, loss, label='Training loss')\n",
    "# plt.legend(loc='Upper right')\n",
    "plt.title('Training loss')\n",
    "\n",
    "plt.show()"
   ]
  },
  {
   "cell_type": "markdown",
   "metadata": {
    "id": "y9F19nH0U_EO"
   },
   "source": [
    "Make predictions"
   ]
  },
  {
   "cell_type": "code",
   "execution_count": 11,
   "metadata": {
    "colab": {
     "base_uri": "https://localhost:8080/"
    },
    "id": "ARyV2DxOVDzb",
    "outputId": "b363e719-59be-4258-f04e-73df2a14d6c6"
   },
   "outputs": [
    {
     "name": "stdout",
     "output_type": "stream",
     "text": [
      "WARNING:tensorflow:Layers in a Sequential model should only have a single input tensor, but we receive a <class 'tuple'> input: (<tf.Tensor 'IteratorGetNext:0' shape=(None, 28, 28) dtype=float32>,)\n",
      "Consider rewriting this model with the Functional API.\n"
     ]
    }
   ],
   "source": [
    "predictions=model.predict([x_test])"
   ]
  },
  {
   "cell_type": "code",
   "execution_count": 12,
   "metadata": {
    "colab": {
     "base_uri": "https://localhost:8080/"
    },
    "id": "SZVYSfH_VJ-h",
    "outputId": "e932602d-9586-4a01-bba8-e49d907ebe0a"
   },
   "outputs": [
    {
     "name": "stdout",
     "output_type": "stream",
     "text": [
      "2\n"
     ]
    }
   ],
   "source": [
    "import numpy as np\n",
    "print(np.argmax(predictions[16]))  # Print the number"
   ]
  },
  {
   "cell_type": "code",
   "execution_count": 13,
   "metadata": {
    "colab": {
     "base_uri": "https://localhost:8080/",
     "height": 265
    },
    "id": "ubO-_hlXVUWb",
    "outputId": "68de8ad8-1cf4-4726-8f12-1b20dcce8617"
   },
   "outputs": [
    {
     "data": {
      "image/png": "[encoded data removed]",
      "text/plain": [
       "<Figure size 432x288 with 1 Axes>"
      ]
     },
     "metadata": {
      "needs_background": "light"
     },
     "output_type": "display_data"
    }
   ],
   "source": [
    "plt.imshow(x_test[16], cmap='gray')  # Import the image\n",
    "plt.show()                          # Show the image"
   ]
  }
 ],
 "metadata": {
  "colab": {
   "collapsed_sections": [],
   "name": "DeepLearning_MNIST_Classification.ipynb",
   "provenance": []
  },
  "kernelspec": {
   "display_name": "Python 3",
   "language": "python",
   "name": "python3"
  },
  "language_info": {
   "codemirror_mode": {
    "name": "ipython",
    "version": 3
   },
   "file_extension": ".py",
   "mimetype": "text/x-python",
   "name": "python",
   "nbconvert_exporter": "python",
   "pygments_lexer": "ipython3",
   "version": "3.8.3"
  }
 },
 "nbformat": 4,
 "nbformat_minor": 1
}
